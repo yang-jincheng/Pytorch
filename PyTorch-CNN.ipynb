{
  "nbformat": 4,
  "nbformat_minor": 0,
  "metadata": {
    "colab": {
      "name": "Untitled4.ipynb",
      "provenance": [],
      "collapsed_sections": []
    },
    "kernelspec": {
      "name": "python3",
      "display_name": "Python 3"
    },
    "widgets": {
      "application/vnd.jupyter.widget-state+json": {
        "93879b2103874e3b844d9bdda78a6e5a": {
          "model_module": "@jupyter-widgets/controls",
          "model_name": "HBoxModel",
          "state": {
            "_view_name": "HBoxView",
            "_dom_classes": [],
            "_model_name": "HBoxModel",
            "_view_module": "@jupyter-widgets/controls",
            "_model_module_version": "1.5.0",
            "_view_count": null,
            "_view_module_version": "1.5.0",
            "box_style": "",
            "layout": "IPY_MODEL_28b0542de191467d9cbec219d03ff056",
            "_model_module": "@jupyter-widgets/controls",
            "children": [
              "IPY_MODEL_2638b1213ee84d8bb7fa15a3152ccbae",
              "IPY_MODEL_40a500722dc94879bdfc3824d7b9f76a"
            ]
          }
        },
        "28b0542de191467d9cbec219d03ff056": {
          "model_module": "@jupyter-widgets/base",
          "model_name": "LayoutModel",
          "state": {
            "_view_name": "LayoutView",
            "grid_template_rows": null,
            "right": null,
            "justify_content": null,
            "_view_module": "@jupyter-widgets/base",
            "overflow": null,
            "_model_module_version": "1.2.0",
            "_view_count": null,
            "flex_flow": null,
            "width": null,
            "min_width": null,
            "border": null,
            "align_items": null,
            "bottom": null,
            "_model_module": "@jupyter-widgets/base",
            "top": null,
            "grid_column": null,
            "overflow_y": null,
            "overflow_x": null,
            "grid_auto_flow": null,
            "grid_area": null,
            "grid_template_columns": null,
            "flex": null,
            "_model_name": "LayoutModel",
            "justify_items": null,
            "grid_row": null,
            "max_height": null,
            "align_content": null,
            "visibility": null,
            "align_self": null,
            "height": null,
            "min_height": null,
            "padding": null,
            "grid_auto_rows": null,
            "grid_gap": null,
            "max_width": null,
            "order": null,
            "_view_module_version": "1.2.0",
            "grid_template_areas": null,
            "object_position": null,
            "object_fit": null,
            "grid_auto_columns": null,
            "margin": null,
            "display": null,
            "left": null
          }
        },
        "2638b1213ee84d8bb7fa15a3152ccbae": {
          "model_module": "@jupyter-widgets/controls",
          "model_name": "FloatProgressModel",
          "state": {
            "_view_name": "ProgressView",
            "style": "IPY_MODEL_449ba02858c0485f98a0b61931b79e4c",
            "_dom_classes": [],
            "description": "",
            "_model_name": "FloatProgressModel",
            "bar_style": "success",
            "max": 1,
            "_view_module": "@jupyter-widgets/controls",
            "_model_module_version": "1.5.0",
            "value": 1,
            "_view_count": null,
            "_view_module_version": "1.5.0",
            "orientation": "horizontal",
            "min": 0,
            "description_tooltip": null,
            "_model_module": "@jupyter-widgets/controls",
            "layout": "IPY_MODEL_f81b97c682924b4da58eff8c43363fda"
          }
        },
        "40a500722dc94879bdfc3824d7b9f76a": {
          "model_module": "@jupyter-widgets/controls",
          "model_name": "HTMLModel",
          "state": {
            "_view_name": "HTMLView",
            "style": "IPY_MODEL_6c5675e2232246148aa346df000b94eb",
            "_dom_classes": [],
            "description": "",
            "_model_name": "HTMLModel",
            "placeholder": "​",
            "_view_module": "@jupyter-widgets/controls",
            "_model_module_version": "1.5.0",
            "value": " 9920512/? [00:03&lt;00:00, 3199577.87it/s]",
            "_view_count": null,
            "_view_module_version": "1.5.0",
            "description_tooltip": null,
            "_model_module": "@jupyter-widgets/controls",
            "layout": "IPY_MODEL_556d98fddc9a44b6847bebeed157cc1b"
          }
        },
        "449ba02858c0485f98a0b61931b79e4c": {
          "model_module": "@jupyter-widgets/controls",
          "model_name": "ProgressStyleModel",
          "state": {
            "_view_name": "StyleView",
            "_model_name": "ProgressStyleModel",
            "description_width": "initial",
            "_view_module": "@jupyter-widgets/base",
            "_model_module_version": "1.5.0",
            "_view_count": null,
            "_view_module_version": "1.2.0",
            "bar_color": null,
            "_model_module": "@jupyter-widgets/controls"
          }
        },
        "f81b97c682924b4da58eff8c43363fda": {
          "model_module": "@jupyter-widgets/base",
          "model_name": "LayoutModel",
          "state": {
            "_view_name": "LayoutView",
            "grid_template_rows": null,
            "right": null,
            "justify_content": null,
            "_view_module": "@jupyter-widgets/base",
            "overflow": null,
            "_model_module_version": "1.2.0",
            "_view_count": null,
            "flex_flow": null,
            "width": null,
            "min_width": null,
            "border": null,
            "align_items": null,
            "bottom": null,
            "_model_module": "@jupyter-widgets/base",
            "top": null,
            "grid_column": null,
            "overflow_y": null,
            "overflow_x": null,
            "grid_auto_flow": null,
            "grid_area": null,
            "grid_template_columns": null,
            "flex": null,
            "_model_name": "LayoutModel",
            "justify_items": null,
            "grid_row": null,
            "max_height": null,
            "align_content": null,
            "visibility": null,
            "align_self": null,
            "height": null,
            "min_height": null,
            "padding": null,
            "grid_auto_rows": null,
            "grid_gap": null,
            "max_width": null,
            "order": null,
            "_view_module_version": "1.2.0",
            "grid_template_areas": null,
            "object_position": null,
            "object_fit": null,
            "grid_auto_columns": null,
            "margin": null,
            "display": null,
            "left": null
          }
        },
        "6c5675e2232246148aa346df000b94eb": {
          "model_module": "@jupyter-widgets/controls",
          "model_name": "DescriptionStyleModel",
          "state": {
            "_view_name": "StyleView",
            "_model_name": "DescriptionStyleModel",
            "description_width": "",
            "_view_module": "@jupyter-widgets/base",
            "_model_module_version": "1.5.0",
            "_view_count": null,
            "_view_module_version": "1.2.0",
            "_model_module": "@jupyter-widgets/controls"
          }
        },
        "556d98fddc9a44b6847bebeed157cc1b": {
          "model_module": "@jupyter-widgets/base",
          "model_name": "LayoutModel",
          "state": {
            "_view_name": "LayoutView",
            "grid_template_rows": null,
            "right": null,
            "justify_content": null,
            "_view_module": "@jupyter-widgets/base",
            "overflow": null,
            "_model_module_version": "1.2.0",
            "_view_count": null,
            "flex_flow": null,
            "width": null,
            "min_width": null,
            "border": null,
            "align_items": null,
            "bottom": null,
            "_model_module": "@jupyter-widgets/base",
            "top": null,
            "grid_column": null,
            "overflow_y": null,
            "overflow_x": null,
            "grid_auto_flow": null,
            "grid_area": null,
            "grid_template_columns": null,
            "flex": null,
            "_model_name": "LayoutModel",
            "justify_items": null,
            "grid_row": null,
            "max_height": null,
            "align_content": null,
            "visibility": null,
            "align_self": null,
            "height": null,
            "min_height": null,
            "padding": null,
            "grid_auto_rows": null,
            "grid_gap": null,
            "max_width": null,
            "order": null,
            "_view_module_version": "1.2.0",
            "grid_template_areas": null,
            "object_position": null,
            "object_fit": null,
            "grid_auto_columns": null,
            "margin": null,
            "display": null,
            "left": null
          }
        },
        "8ec75ad70db44e8da883e722598b38a1": {
          "model_module": "@jupyter-widgets/controls",
          "model_name": "HBoxModel",
          "state": {
            "_view_name": "HBoxView",
            "_dom_classes": [],
            "_model_name": "HBoxModel",
            "_view_module": "@jupyter-widgets/controls",
            "_model_module_version": "1.5.0",
            "_view_count": null,
            "_view_module_version": "1.5.0",
            "box_style": "",
            "layout": "IPY_MODEL_49fedb17fabb47b0a16a16a231e23435",
            "_model_module": "@jupyter-widgets/controls",
            "children": [
              "IPY_MODEL_0d1e0388b0b84259ac60cecf56e02008",
              "IPY_MODEL_502d61d6bdac4f5980a1fdfcb3ebc961"
            ]
          }
        },
        "49fedb17fabb47b0a16a16a231e23435": {
          "model_module": "@jupyter-widgets/base",
          "model_name": "LayoutModel",
          "state": {
            "_view_name": "LayoutView",
            "grid_template_rows": null,
            "right": null,
            "justify_content": null,
            "_view_module": "@jupyter-widgets/base",
            "overflow": null,
            "_model_module_version": "1.2.0",
            "_view_count": null,
            "flex_flow": null,
            "width": null,
            "min_width": null,
            "border": null,
            "align_items": null,
            "bottom": null,
            "_model_module": "@jupyter-widgets/base",
            "top": null,
            "grid_column": null,
            "overflow_y": null,
            "overflow_x": null,
            "grid_auto_flow": null,
            "grid_area": null,
            "grid_template_columns": null,
            "flex": null,
            "_model_name": "LayoutModel",
            "justify_items": null,
            "grid_row": null,
            "max_height": null,
            "align_content": null,
            "visibility": null,
            "align_self": null,
            "height": null,
            "min_height": null,
            "padding": null,
            "grid_auto_rows": null,
            "grid_gap": null,
            "max_width": null,
            "order": null,
            "_view_module_version": "1.2.0",
            "grid_template_areas": null,
            "object_position": null,
            "object_fit": null,
            "grid_auto_columns": null,
            "margin": null,
            "display": null,
            "left": null
          }
        },
        "0d1e0388b0b84259ac60cecf56e02008": {
          "model_module": "@jupyter-widgets/controls",
          "model_name": "FloatProgressModel",
          "state": {
            "_view_name": "ProgressView",
            "style": "IPY_MODEL_a253856cd075491e8ecd6f764ebe4bcc",
            "_dom_classes": [],
            "description": "",
            "_model_name": "FloatProgressModel",
            "bar_style": "success",
            "max": 1,
            "_view_module": "@jupyter-widgets/controls",
            "_model_module_version": "1.5.0",
            "value": 1,
            "_view_count": null,
            "_view_module_version": "1.5.0",
            "orientation": "horizontal",
            "min": 0,
            "description_tooltip": null,
            "_model_module": "@jupyter-widgets/controls",
            "layout": "IPY_MODEL_7ec5e03b183045b59815324de745e258"
          }
        },
        "502d61d6bdac4f5980a1fdfcb3ebc961": {
          "model_module": "@jupyter-widgets/controls",
          "model_name": "HTMLModel",
          "state": {
            "_view_name": "HTMLView",
            "style": "IPY_MODEL_0255110457fa49c7b5ffca9284c54767",
            "_dom_classes": [],
            "description": "",
            "_model_name": "HTMLModel",
            "placeholder": "​",
            "_view_module": "@jupyter-widgets/controls",
            "_model_module_version": "1.5.0",
            "value": " 32768/? [00:00&lt;00:00, 116645.69it/s]",
            "_view_count": null,
            "_view_module_version": "1.5.0",
            "description_tooltip": null,
            "_model_module": "@jupyter-widgets/controls",
            "layout": "IPY_MODEL_e1a234f6c5e242f8aecf2370455478f7"
          }
        },
        "a253856cd075491e8ecd6f764ebe4bcc": {
          "model_module": "@jupyter-widgets/controls",
          "model_name": "ProgressStyleModel",
          "state": {
            "_view_name": "StyleView",
            "_model_name": "ProgressStyleModel",
            "description_width": "initial",
            "_view_module": "@jupyter-widgets/base",
            "_model_module_version": "1.5.0",
            "_view_count": null,
            "_view_module_version": "1.2.0",
            "bar_color": null,
            "_model_module": "@jupyter-widgets/controls"
          }
        },
        "7ec5e03b183045b59815324de745e258": {
          "model_module": "@jupyter-widgets/base",
          "model_name": "LayoutModel",
          "state": {
            "_view_name": "LayoutView",
            "grid_template_rows": null,
            "right": null,
            "justify_content": null,
            "_view_module": "@jupyter-widgets/base",
            "overflow": null,
            "_model_module_version": "1.2.0",
            "_view_count": null,
            "flex_flow": null,
            "width": null,
            "min_width": null,
            "border": null,
            "align_items": null,
            "bottom": null,
            "_model_module": "@jupyter-widgets/base",
            "top": null,
            "grid_column": null,
            "overflow_y": null,
            "overflow_x": null,
            "grid_auto_flow": null,
            "grid_area": null,
            "grid_template_columns": null,
            "flex": null,
            "_model_name": "LayoutModel",
            "justify_items": null,
            "grid_row": null,
            "max_height": null,
            "align_content": null,
            "visibility": null,
            "align_self": null,
            "height": null,
            "min_height": null,
            "padding": null,
            "grid_auto_rows": null,
            "grid_gap": null,
            "max_width": null,
            "order": null,
            "_view_module_version": "1.2.0",
            "grid_template_areas": null,
            "object_position": null,
            "object_fit": null,
            "grid_auto_columns": null,
            "margin": null,
            "display": null,
            "left": null
          }
        },
        "0255110457fa49c7b5ffca9284c54767": {
          "model_module": "@jupyter-widgets/controls",
          "model_name": "DescriptionStyleModel",
          "state": {
            "_view_name": "StyleView",
            "_model_name": "DescriptionStyleModel",
            "description_width": "",
            "_view_module": "@jupyter-widgets/base",
            "_model_module_version": "1.5.0",
            "_view_count": null,
            "_view_module_version": "1.2.0",
            "_model_module": "@jupyter-widgets/controls"
          }
        },
        "e1a234f6c5e242f8aecf2370455478f7": {
          "model_module": "@jupyter-widgets/base",
          "model_name": "LayoutModel",
          "state": {
            "_view_name": "LayoutView",
            "grid_template_rows": null,
            "right": null,
            "justify_content": null,
            "_view_module": "@jupyter-widgets/base",
            "overflow": null,
            "_model_module_version": "1.2.0",
            "_view_count": null,
            "flex_flow": null,
            "width": null,
            "min_width": null,
            "border": null,
            "align_items": null,
            "bottom": null,
            "_model_module": "@jupyter-widgets/base",
            "top": null,
            "grid_column": null,
            "overflow_y": null,
            "overflow_x": null,
            "grid_auto_flow": null,
            "grid_area": null,
            "grid_template_columns": null,
            "flex": null,
            "_model_name": "LayoutModel",
            "justify_items": null,
            "grid_row": null,
            "max_height": null,
            "align_content": null,
            "visibility": null,
            "align_self": null,
            "height": null,
            "min_height": null,
            "padding": null,
            "grid_auto_rows": null,
            "grid_gap": null,
            "max_width": null,
            "order": null,
            "_view_module_version": "1.2.0",
            "grid_template_areas": null,
            "object_position": null,
            "object_fit": null,
            "grid_auto_columns": null,
            "margin": null,
            "display": null,
            "left": null
          }
        },
        "49345c60d85943fdbd903c0195231e02": {
          "model_module": "@jupyter-widgets/controls",
          "model_name": "HBoxModel",
          "state": {
            "_view_name": "HBoxView",
            "_dom_classes": [],
            "_model_name": "HBoxModel",
            "_view_module": "@jupyter-widgets/controls",
            "_model_module_version": "1.5.0",
            "_view_count": null,
            "_view_module_version": "1.5.0",
            "box_style": "",
            "layout": "IPY_MODEL_6d78970cc8ab46fda7aa6fd31f47fe13",
            "_model_module": "@jupyter-widgets/controls",
            "children": [
              "IPY_MODEL_61fd51dfa70a4ed28bf866542f120d10",
              "IPY_MODEL_12427b22ceb24ef981f938b299a8c1ba"
            ]
          }
        },
        "6d78970cc8ab46fda7aa6fd31f47fe13": {
          "model_module": "@jupyter-widgets/base",
          "model_name": "LayoutModel",
          "state": {
            "_view_name": "LayoutView",
            "grid_template_rows": null,
            "right": null,
            "justify_content": null,
            "_view_module": "@jupyter-widgets/base",
            "overflow": null,
            "_model_module_version": "1.2.0",
            "_view_count": null,
            "flex_flow": null,
            "width": null,
            "min_width": null,
            "border": null,
            "align_items": null,
            "bottom": null,
            "_model_module": "@jupyter-widgets/base",
            "top": null,
            "grid_column": null,
            "overflow_y": null,
            "overflow_x": null,
            "grid_auto_flow": null,
            "grid_area": null,
            "grid_template_columns": null,
            "flex": null,
            "_model_name": "LayoutModel",
            "justify_items": null,
            "grid_row": null,
            "max_height": null,
            "align_content": null,
            "visibility": null,
            "align_self": null,
            "height": null,
            "min_height": null,
            "padding": null,
            "grid_auto_rows": null,
            "grid_gap": null,
            "max_width": null,
            "order": null,
            "_view_module_version": "1.2.0",
            "grid_template_areas": null,
            "object_position": null,
            "object_fit": null,
            "grid_auto_columns": null,
            "margin": null,
            "display": null,
            "left": null
          }
        },
        "61fd51dfa70a4ed28bf866542f120d10": {
          "model_module": "@jupyter-widgets/controls",
          "model_name": "FloatProgressModel",
          "state": {
            "_view_name": "ProgressView",
            "style": "IPY_MODEL_7af50ac32b484d6f8c8c0ccdea3325be",
            "_dom_classes": [],
            "description": "",
            "_model_name": "FloatProgressModel",
            "bar_style": "success",
            "max": 1,
            "_view_module": "@jupyter-widgets/controls",
            "_model_module_version": "1.5.0",
            "value": 1,
            "_view_count": null,
            "_view_module_version": "1.5.0",
            "orientation": "horizontal",
            "min": 0,
            "description_tooltip": null,
            "_model_module": "@jupyter-widgets/controls",
            "layout": "IPY_MODEL_1964243fe42944f6a791a4bbc03df982"
          }
        },
        "12427b22ceb24ef981f938b299a8c1ba": {
          "model_module": "@jupyter-widgets/controls",
          "model_name": "HTMLModel",
          "state": {
            "_view_name": "HTMLView",
            "style": "IPY_MODEL_16223ad8064e41eaa45e03288d3363fd",
            "_dom_classes": [],
            "description": "",
            "_model_name": "HTMLModel",
            "placeholder": "​",
            "_view_module": "@jupyter-widgets/controls",
            "_model_module_version": "1.5.0",
            "value": " 1654784/? [00:01&lt;00:00, 1160984.69it/s]",
            "_view_count": null,
            "_view_module_version": "1.5.0",
            "description_tooltip": null,
            "_model_module": "@jupyter-widgets/controls",
            "layout": "IPY_MODEL_23f1f556c02c42329e7a430fd84c778c"
          }
        },
        "7af50ac32b484d6f8c8c0ccdea3325be": {
          "model_module": "@jupyter-widgets/controls",
          "model_name": "ProgressStyleModel",
          "state": {
            "_view_name": "StyleView",
            "_model_name": "ProgressStyleModel",
            "description_width": "initial",
            "_view_module": "@jupyter-widgets/base",
            "_model_module_version": "1.5.0",
            "_view_count": null,
            "_view_module_version": "1.2.0",
            "bar_color": null,
            "_model_module": "@jupyter-widgets/controls"
          }
        },
        "1964243fe42944f6a791a4bbc03df982": {
          "model_module": "@jupyter-widgets/base",
          "model_name": "LayoutModel",
          "state": {
            "_view_name": "LayoutView",
            "grid_template_rows": null,
            "right": null,
            "justify_content": null,
            "_view_module": "@jupyter-widgets/base",
            "overflow": null,
            "_model_module_version": "1.2.0",
            "_view_count": null,
            "flex_flow": null,
            "width": null,
            "min_width": null,
            "border": null,
            "align_items": null,
            "bottom": null,
            "_model_module": "@jupyter-widgets/base",
            "top": null,
            "grid_column": null,
            "overflow_y": null,
            "overflow_x": null,
            "grid_auto_flow": null,
            "grid_area": null,
            "grid_template_columns": null,
            "flex": null,
            "_model_name": "LayoutModel",
            "justify_items": null,
            "grid_row": null,
            "max_height": null,
            "align_content": null,
            "visibility": null,
            "align_self": null,
            "height": null,
            "min_height": null,
            "padding": null,
            "grid_auto_rows": null,
            "grid_gap": null,
            "max_width": null,
            "order": null,
            "_view_module_version": "1.2.0",
            "grid_template_areas": null,
            "object_position": null,
            "object_fit": null,
            "grid_auto_columns": null,
            "margin": null,
            "display": null,
            "left": null
          }
        },
        "16223ad8064e41eaa45e03288d3363fd": {
          "model_module": "@jupyter-widgets/controls",
          "model_name": "DescriptionStyleModel",
          "state": {
            "_view_name": "StyleView",
            "_model_name": "DescriptionStyleModel",
            "description_width": "",
            "_view_module": "@jupyter-widgets/base",
            "_model_module_version": "1.5.0",
            "_view_count": null,
            "_view_module_version": "1.2.0",
            "_model_module": "@jupyter-widgets/controls"
          }
        },
        "23f1f556c02c42329e7a430fd84c778c": {
          "model_module": "@jupyter-widgets/base",
          "model_name": "LayoutModel",
          "state": {
            "_view_name": "LayoutView",
            "grid_template_rows": null,
            "right": null,
            "justify_content": null,
            "_view_module": "@jupyter-widgets/base",
            "overflow": null,
            "_model_module_version": "1.2.0",
            "_view_count": null,
            "flex_flow": null,
            "width": null,
            "min_width": null,
            "border": null,
            "align_items": null,
            "bottom": null,
            "_model_module": "@jupyter-widgets/base",
            "top": null,
            "grid_column": null,
            "overflow_y": null,
            "overflow_x": null,
            "grid_auto_flow": null,
            "grid_area": null,
            "grid_template_columns": null,
            "flex": null,
            "_model_name": "LayoutModel",
            "justify_items": null,
            "grid_row": null,
            "max_height": null,
            "align_content": null,
            "visibility": null,
            "align_self": null,
            "height": null,
            "min_height": null,
            "padding": null,
            "grid_auto_rows": null,
            "grid_gap": null,
            "max_width": null,
            "order": null,
            "_view_module_version": "1.2.0",
            "grid_template_areas": null,
            "object_position": null,
            "object_fit": null,
            "grid_auto_columns": null,
            "margin": null,
            "display": null,
            "left": null
          }
        },
        "4001c7f951874b8a8ca5a65e854d1a48": {
          "model_module": "@jupyter-widgets/controls",
          "model_name": "HBoxModel",
          "state": {
            "_view_name": "HBoxView",
            "_dom_classes": [],
            "_model_name": "HBoxModel",
            "_view_module": "@jupyter-widgets/controls",
            "_model_module_version": "1.5.0",
            "_view_count": null,
            "_view_module_version": "1.5.0",
            "box_style": "",
            "layout": "IPY_MODEL_1cd18ba4653c44b8847be09decc0a6ed",
            "_model_module": "@jupyter-widgets/controls",
            "children": [
              "IPY_MODEL_c1bff6b45dfc4f57b78a732e96e0a0e9",
              "IPY_MODEL_bdfb9a364be2483e806c3063f447a563"
            ]
          }
        },
        "1cd18ba4653c44b8847be09decc0a6ed": {
          "model_module": "@jupyter-widgets/base",
          "model_name": "LayoutModel",
          "state": {
            "_view_name": "LayoutView",
            "grid_template_rows": null,
            "right": null,
            "justify_content": null,
            "_view_module": "@jupyter-widgets/base",
            "overflow": null,
            "_model_module_version": "1.2.0",
            "_view_count": null,
            "flex_flow": null,
            "width": null,
            "min_width": null,
            "border": null,
            "align_items": null,
            "bottom": null,
            "_model_module": "@jupyter-widgets/base",
            "top": null,
            "grid_column": null,
            "overflow_y": null,
            "overflow_x": null,
            "grid_auto_flow": null,
            "grid_area": null,
            "grid_template_columns": null,
            "flex": null,
            "_model_name": "LayoutModel",
            "justify_items": null,
            "grid_row": null,
            "max_height": null,
            "align_content": null,
            "visibility": null,
            "align_self": null,
            "height": null,
            "min_height": null,
            "padding": null,
            "grid_auto_rows": null,
            "grid_gap": null,
            "max_width": null,
            "order": null,
            "_view_module_version": "1.2.0",
            "grid_template_areas": null,
            "object_position": null,
            "object_fit": null,
            "grid_auto_columns": null,
            "margin": null,
            "display": null,
            "left": null
          }
        },
        "c1bff6b45dfc4f57b78a732e96e0a0e9": {
          "model_module": "@jupyter-widgets/controls",
          "model_name": "FloatProgressModel",
          "state": {
            "_view_name": "ProgressView",
            "style": "IPY_MODEL_7087f8e9eb43447e8e5df65c9448dd5f",
            "_dom_classes": [],
            "description": "",
            "_model_name": "FloatProgressModel",
            "bar_style": "success",
            "max": 1,
            "_view_module": "@jupyter-widgets/controls",
            "_model_module_version": "1.5.0",
            "value": 1,
            "_view_count": null,
            "_view_module_version": "1.5.0",
            "orientation": "horizontal",
            "min": 0,
            "description_tooltip": null,
            "_model_module": "@jupyter-widgets/controls",
            "layout": "IPY_MODEL_94e49129c7cf4c05a846fe7537075179"
          }
        },
        "bdfb9a364be2483e806c3063f447a563": {
          "model_module": "@jupyter-widgets/controls",
          "model_name": "HTMLModel",
          "state": {
            "_view_name": "HTMLView",
            "style": "IPY_MODEL_357185915d9047b3953471e93dddd6f7",
            "_dom_classes": [],
            "description": "",
            "_model_name": "HTMLModel",
            "placeholder": "​",
            "_view_module": "@jupyter-widgets/controls",
            "_model_module_version": "1.5.0",
            "value": " 8192/? [00:00&lt;00:00, 17978.28it/s]",
            "_view_count": null,
            "_view_module_version": "1.5.0",
            "description_tooltip": null,
            "_model_module": "@jupyter-widgets/controls",
            "layout": "IPY_MODEL_4f8a0e6315d84fadb7fa10c3f321e7c9"
          }
        },
        "7087f8e9eb43447e8e5df65c9448dd5f": {
          "model_module": "@jupyter-widgets/controls",
          "model_name": "ProgressStyleModel",
          "state": {
            "_view_name": "StyleView",
            "_model_name": "ProgressStyleModel",
            "description_width": "initial",
            "_view_module": "@jupyter-widgets/base",
            "_model_module_version": "1.5.0",
            "_view_count": null,
            "_view_module_version": "1.2.0",
            "bar_color": null,
            "_model_module": "@jupyter-widgets/controls"
          }
        },
        "94e49129c7cf4c05a846fe7537075179": {
          "model_module": "@jupyter-widgets/base",
          "model_name": "LayoutModel",
          "state": {
            "_view_name": "LayoutView",
            "grid_template_rows": null,
            "right": null,
            "justify_content": null,
            "_view_module": "@jupyter-widgets/base",
            "overflow": null,
            "_model_module_version": "1.2.0",
            "_view_count": null,
            "flex_flow": null,
            "width": null,
            "min_width": null,
            "border": null,
            "align_items": null,
            "bottom": null,
            "_model_module": "@jupyter-widgets/base",
            "top": null,
            "grid_column": null,
            "overflow_y": null,
            "overflow_x": null,
            "grid_auto_flow": null,
            "grid_area": null,
            "grid_template_columns": null,
            "flex": null,
            "_model_name": "LayoutModel",
            "justify_items": null,
            "grid_row": null,
            "max_height": null,
            "align_content": null,
            "visibility": null,
            "align_self": null,
            "height": null,
            "min_height": null,
            "padding": null,
            "grid_auto_rows": null,
            "grid_gap": null,
            "max_width": null,
            "order": null,
            "_view_module_version": "1.2.0",
            "grid_template_areas": null,
            "object_position": null,
            "object_fit": null,
            "grid_auto_columns": null,
            "margin": null,
            "display": null,
            "left": null
          }
        },
        "357185915d9047b3953471e93dddd6f7": {
          "model_module": "@jupyter-widgets/controls",
          "model_name": "DescriptionStyleModel",
          "state": {
            "_view_name": "StyleView",
            "_model_name": "DescriptionStyleModel",
            "description_width": "",
            "_view_module": "@jupyter-widgets/base",
            "_model_module_version": "1.5.0",
            "_view_count": null,
            "_view_module_version": "1.2.0",
            "_model_module": "@jupyter-widgets/controls"
          }
        },
        "4f8a0e6315d84fadb7fa10c3f321e7c9": {
          "model_module": "@jupyter-widgets/base",
          "model_name": "LayoutModel",
          "state": {
            "_view_name": "LayoutView",
            "grid_template_rows": null,
            "right": null,
            "justify_content": null,
            "_view_module": "@jupyter-widgets/base",
            "overflow": null,
            "_model_module_version": "1.2.0",
            "_view_count": null,
            "flex_flow": null,
            "width": null,
            "min_width": null,
            "border": null,
            "align_items": null,
            "bottom": null,
            "_model_module": "@jupyter-widgets/base",
            "top": null,
            "grid_column": null,
            "overflow_y": null,
            "overflow_x": null,
            "grid_auto_flow": null,
            "grid_area": null,
            "grid_template_columns": null,
            "flex": null,
            "_model_name": "LayoutModel",
            "justify_items": null,
            "grid_row": null,
            "max_height": null,
            "align_content": null,
            "visibility": null,
            "align_self": null,
            "height": null,
            "min_height": null,
            "padding": null,
            "grid_auto_rows": null,
            "grid_gap": null,
            "max_width": null,
            "order": null,
            "_view_module_version": "1.2.0",
            "grid_template_areas": null,
            "object_position": null,
            "object_fit": null,
            "grid_auto_columns": null,
            "margin": null,
            "display": null,
            "left": null
          }
        }
      }
    }
  },
  "cells": [
    {
      "cell_type": "markdown",
      "metadata": {
        "id": "OIAO0fnjO_ja"
      },
      "source": [
        "pytorch CNN構築"
      ]
    },
    {
      "cell_type": "code",
      "metadata": {
        "id": "JgaTZIcAML1i"
      },
      "source": [
        "import numpy as np\r\n",
        "import torch\r\n",
        "from torch import nn\r\n",
        "from PIL import Image\r\n",
        "import matplotlib.pyplot as plt\r\n",
        "import os\r\n",
        "from torchvision import datasets,transforms,utils"
      ],
      "execution_count": null,
      "outputs": []
    },
    {
      "cell_type": "markdown",
      "metadata": {
        "id": "O5UHGw8OedO-"
      },
      "source": [
        "データセットを準備する\r\n",
        "\r\n",
        "MNISTデータセットの紹介がhttps://www.atmarkit.co.jp/ait/articles/2001/22/news012.html\r\n",
        "\r\n",
        "このサイトを参考してください\r\n",
        "\r\n",
        "#transfroms\r\n",
        "Composeは複数データ処理手法持っています\r\n",
        "\r\n",
        "ToTensor Tensorーー＞https://ja.wikipedia.org/wiki/%E3%83%86%E3%83%B3%E3%82%BD%E3%83%AB\r\n",
        "\r\n",
        "データを正規化する\r\n",
        "\r\n",
        "Normalized_image =(image-mean)/std\r\n",
        "RGBの場合「0.5,0.5,0.5」"
      ]
    },
    {
      "cell_type": "code",
      "metadata": {
        "id": "0a1R4tlKeEvs"
      },
      "source": [
        "transform = transforms.Compose([transforms.ToTensor(),\r\n",
        "                                transforms.Normalize(mean=[0.5],std=[0.5])])"
      ],
      "execution_count": null,
      "outputs": []
    },
    {
      "cell_type": "markdown",
      "metadata": {
        "id": "KMgAj_FZsFbo"
      },
      "source": [
        "root:path\r\n",
        "\r\n",
        "train: True -->訓練データ\r\n",
        "      　Flase－－＞テストデータ\r\n",
        "\r\n",
        "transform:データ処理手法"
      ]
    },
    {
      "cell_type": "code",
      "metadata": {
        "id": "wniP0a8PonbY",
        "colab": {
          "base_uri": "https://localhost:8080/",
          "height": 394,
          "referenced_widgets": [
            "93879b2103874e3b844d9bdda78a6e5a",
            "28b0542de191467d9cbec219d03ff056",
            "2638b1213ee84d8bb7fa15a3152ccbae",
            "40a500722dc94879bdfc3824d7b9f76a",
            "449ba02858c0485f98a0b61931b79e4c",
            "f81b97c682924b4da58eff8c43363fda",
            "6c5675e2232246148aa346df000b94eb",
            "556d98fddc9a44b6847bebeed157cc1b",
            "8ec75ad70db44e8da883e722598b38a1",
            "49fedb17fabb47b0a16a16a231e23435",
            "0d1e0388b0b84259ac60cecf56e02008",
            "502d61d6bdac4f5980a1fdfcb3ebc961",
            "a253856cd075491e8ecd6f764ebe4bcc",
            "7ec5e03b183045b59815324de745e258",
            "0255110457fa49c7b5ffca9284c54767",
            "e1a234f6c5e242f8aecf2370455478f7",
            "49345c60d85943fdbd903c0195231e02",
            "6d78970cc8ab46fda7aa6fd31f47fe13",
            "61fd51dfa70a4ed28bf866542f120d10",
            "12427b22ceb24ef981f938b299a8c1ba",
            "7af50ac32b484d6f8c8c0ccdea3325be",
            "1964243fe42944f6a791a4bbc03df982",
            "16223ad8064e41eaa45e03288d3363fd",
            "23f1f556c02c42329e7a430fd84c778c",
            "4001c7f951874b8a8ca5a65e854d1a48",
            "1cd18ba4653c44b8847be09decc0a6ed",
            "c1bff6b45dfc4f57b78a732e96e0a0e9",
            "bdfb9a364be2483e806c3063f447a563",
            "7087f8e9eb43447e8e5df65c9448dd5f",
            "94e49129c7cf4c05a846fe7537075179",
            "357185915d9047b3953471e93dddd6f7",
            "4f8a0e6315d84fadb7fa10c3f321e7c9"
          ]
        },
        "outputId": "792ad5d0-345a-4dc0-95ca-1484aefd67d1"
      },
      "source": [
        "train_data = datasets.MNIST(root = \"./data/\",\r\n",
        "                            transform=transform,\r\n",
        "                            train = True,\r\n",
        "                            download = True)\r\n",
        "\r\n",
        "test_data = datasets.MNIST(root = \"./data/\",\r\n",
        "                            transform=transform,\r\n",
        "                            train = False)"
      ],
      "execution_count": null,
      "outputs": [
        {
          "output_type": "stream",
          "text": [
            "Downloading http://yann.lecun.com/exdb/mnist/train-images-idx3-ubyte.gz to ./data/MNIST/raw/train-images-idx3-ubyte.gz\n"
          ],
          "name": "stdout"
        },
        {
          "output_type": "display_data",
          "data": {
            "application/vnd.jupyter.widget-view+json": {
              "model_id": "93879b2103874e3b844d9bdda78a6e5a",
              "version_minor": 0,
              "version_major": 2
            },
            "text/plain": [
              "HBox(children=(FloatProgress(value=1.0, bar_style='info', max=1.0), HTML(value='')))"
            ]
          },
          "metadata": {
            "tags": []
          }
        },
        {
          "output_type": "stream",
          "text": [
            "Extracting ./data/MNIST/raw/train-images-idx3-ubyte.gz to ./data/MNIST/raw\n",
            "Downloading http://yann.lecun.com/exdb/mnist/train-labels-idx1-ubyte.gz to ./data/MNIST/raw/train-labels-idx1-ubyte.gz\n"
          ],
          "name": "stdout"
        },
        {
          "output_type": "display_data",
          "data": {
            "application/vnd.jupyter.widget-view+json": {
              "model_id": "8ec75ad70db44e8da883e722598b38a1",
              "version_minor": 0,
              "version_major": 2
            },
            "text/plain": [
              "HBox(children=(FloatProgress(value=1.0, bar_style='info', max=1.0), HTML(value='')))"
            ]
          },
          "metadata": {
            "tags": []
          }
        },
        {
          "output_type": "stream",
          "text": [
            "Extracting ./data/MNIST/raw/train-labels-idx1-ubyte.gz to ./data/MNIST/raw\n",
            "Downloading http://yann.lecun.com/exdb/mnist/t10k-images-idx3-ubyte.gz to ./data/MNIST/raw/t10k-images-idx3-ubyte.gz\n",
            "\n"
          ],
          "name": "stdout"
        },
        {
          "output_type": "display_data",
          "data": {
            "application/vnd.jupyter.widget-view+json": {
              "model_id": "49345c60d85943fdbd903c0195231e02",
              "version_minor": 0,
              "version_major": 2
            },
            "text/plain": [
              "HBox(children=(FloatProgress(value=1.0, bar_style='info', max=1.0), HTML(value='')))"
            ]
          },
          "metadata": {
            "tags": []
          }
        },
        {
          "output_type": "stream",
          "text": [
            "Extracting ./data/MNIST/raw/t10k-images-idx3-ubyte.gz to ./data/MNIST/raw\n",
            "Downloading http://yann.lecun.com/exdb/mnist/t10k-labels-idx1-ubyte.gz to ./data/MNIST/raw/t10k-labels-idx1-ubyte.gz\n"
          ],
          "name": "stdout"
        },
        {
          "output_type": "display_data",
          "data": {
            "application/vnd.jupyter.widget-view+json": {
              "model_id": "4001c7f951874b8a8ca5a65e854d1a48",
              "version_minor": 0,
              "version_major": 2
            },
            "text/plain": [
              "HBox(children=(FloatProgress(value=1.0, bar_style='info', max=1.0), HTML(value='')))"
            ]
          },
          "metadata": {
            "tags": []
          }
        },
        {
          "output_type": "stream",
          "text": [
            "Extracting ./data/MNIST/raw/t10k-labels-idx1-ubyte.gz to ./data/MNIST/raw\n",
            "Processing...\n",
            "Done!\n"
          ],
          "name": "stdout"
        },
        {
          "output_type": "stream",
          "text": [
            "/usr/local/lib/python3.6/dist-packages/torchvision/datasets/mnist.py:480: UserWarning: The given NumPy array is not writeable, and PyTorch does not support non-writeable tensors. This means you can write to the underlying (supposedly non-writeable) NumPy array using the tensor. You may want to copy the array to protect its data or make it writeable before converting it to a tensor. This type of warning will be suppressed for the rest of this program. (Triggered internally at  /pytorch/torch/csrc/utils/tensor_numpy.cpp:141.)\n",
            "  return torch.from_numpy(parsed.astype(m[2], copy=False)).view(*s)\n"
          ],
          "name": "stderr"
        }
      ]
    },
    {
      "cell_type": "markdown",
      "metadata": {
        "id": "c8INj5gcyCz5"
      },
      "source": [
        "batch_size 説明：https://qiita.com/kenta1984/items/bad75a37d552510e4682\r\n",
        "\r\n",
        "train_loaderの長さは60000/64=938 batch\r\n",
        "\r\n",
        "test_loader 10000/64=157batch"
      ]
    },
    {
      "cell_type": "code",
      "metadata": {
        "colab": {
          "base_uri": "https://localhost:8080/"
        },
        "id": "W2uGEz3bvBKu",
        "outputId": "1025674f-1c2b-4b12-e8d3-fa079c0530a2"
      },
      "source": [
        "print(len(train_data))\r\n",
        "len(test_data)"
      ],
      "execution_count": null,
      "outputs": [
        {
          "output_type": "stream",
          "text": [
            "60000\n"
          ],
          "name": "stdout"
        },
        {
          "output_type": "execute_result",
          "data": {
            "text/plain": [
              "10000"
            ]
          },
          "metadata": {
            "tags": []
          },
          "execution_count": 4
        }
      ]
    },
    {
      "cell_type": "code",
      "metadata": {
        "id": "i0qXmI1vuZW5"
      },
      "source": [
        "train_loader = torch.utils.data.DataLoader(train_data,batch_size=64,shuffle=True,num_workers=4)\r\n",
        "\r\n",
        "test_loader = torch.utils.data.DataLoader(test_data,batch_size=64,shuffle=True,num_workers=4)"
      ],
      "execution_count": null,
      "outputs": []
    },
    {
      "cell_type": "code",
      "metadata": {
        "colab": {
          "base_uri": "https://localhost:8080/",
          "height": 335
        },
        "id": "FTbltSdWyEnj",
        "outputId": "d931153c-f4b2-4600-d8f6-35fb543f0e57"
      },
      "source": [
        "one_img,label = train_data[0]\r\n",
        "one_img = one_img.numpy().transpose(1,2,0)\r\n",
        "std=[0.5]\r\n",
        "mean=[0.5]\r\n",
        "one_img = one_img *std +mean\r\n",
        "\r\n",
        "one_img.resize(28,28)\r\n",
        "plt.imshow(one_img)\r\n",
        "plt.show"
      ],
      "execution_count": null,
      "outputs": [
        {
          "output_type": "stream",
          "text": [
            "\n"
          ],
          "name": "stdout"
        },
        {
          "output_type": "execute_result",
          "data": {
            "text/plain": [
              "<function matplotlib.pyplot.show>"
            ]
          },
          "metadata": {
            "tags": []
          },
          "execution_count": 6
        },
        {
          "output_type": "display_data",
          "data": {
            "image/png": "[encoded data removed]",
            "text/plain": [
              "<Figure size 432x288 with 1 Axes>"
            ]
          },
          "metadata": {
            "tags": [],
            "needs_background": "light"
          }
        },
        {
          "output_type": "stream",
          "text": [
            "\n",
            "\n"
          ],
          "name": "stdout"
        }
      ]
    },
    {
      "cell_type": "code",
      "metadata": {
        "colab": {
          "base_uri": "https://localhost:8080/",
          "height": 410
        },
        "id": "uTpgC0Az2YwG",
        "outputId": "8d0ed746-a51b-4dad-e48b-4f7a849348b6"
      },
      "source": [
        "#output one batch img and lables\r\n",
        "images, lables = next(iter(train_loader))\r\n",
        "img = utils.make_grid(images)\r\n",
        "\r\n",
        "img = img.numpy().transpose(1,2,0) \r\n",
        "std = [0.5]\r\n",
        "mean = [0.5]\r\n",
        "img = img * std + mean\r\n",
        "for i in range(64):\r\n",
        "    print(lables[i], end=\" \")\r\n",
        "    i += 1\r\n",
        "    if i%8 is 0:\r\n",
        "        print(end='\\n')\r\n",
        "plt.imshow(img)\r\n",
        "plt.show()"
      ],
      "execution_count": null,
      "outputs": [
        {
          "output_type": "stream",
          "text": [
            "tensor(3) tensor(4) tensor(8) tensor(3) tensor(1) tensor(3) tensor(2) tensor(1) \n",
            "tensor(6) tensor(9) tensor(5) tensor(5) tensor(7) tensor(8) tensor(6) tensor(4) \n",
            "tensor(3) tensor(0) tensor(2) tensor(0) tensor(3) tensor(7) tensor(2) tensor(8) \n",
            "tensor(9) tensor(4) tensor(2) tensor(2) tensor(8) tensor(0) tensor(1) tensor(0) \n",
            "tensor(5) tensor(5) tensor(7) tensor(5) tensor(7) tensor(9) tensor(2) tensor(5) \n",
            "tensor(8) tensor(6) tensor(4) tensor(3) tensor(4) tensor(4) tensor(8) tensor(6) \n",
            "tensor(5) tensor(0) tensor(5) tensor(9) tensor(0) tensor(6) tensor(5) tensor(2) \n",
            "tensor(5) tensor(4) tensor(5) tensor(3) tensor(4) tensor(2) tensor(2) tensor(9) \n"
          ],
          "name": "stdout"
        },
        {
          "output_type": "display_data",
          "data": {
            "image/png": "[encoded data removed]",
            "text/plain": [
              "<Figure size 432x288 with 1 Axes>"
            ]
          },
          "metadata": {
            "tags": [],
            "needs_background": "light"
          }
        }
      ]
    },
    {
      "cell_type": "markdown",
      "metadata": {
        "id": "LN1j2NkI4Ehb"
      },
      "source": [
        "#ニューラルネットワーク\r\n",
        "\r\n",
        "今回２つ畳み込み層と３つのfully connected layers\r\n",
        "\r\n",
        "##Conv2dパラメータ\r\n",
        "\r\n",
        "* in_channels(int) \r\n",
        "* out_channels(int) \r\n",
        "* kerner_size(int or tuple) \r\n",
        "* stride(int or tuple, optional) \r\n",
        "* padding(int or tuple, optional)\r\n"
      ]
    },
    {
      "cell_type": "code",
      "metadata": {
        "id": "INEF6-Ux6cLy"
      },
      "source": [
        "import torch.nn.functional as F\r\n",
        "class CNN(nn.Module):\r\n",
        "  def __init__(self):\r\n",
        "        super(CNN,self).__init__()\r\n",
        "        self.conv1 = nn.Conv2d(1,32,kernel_size=3,stride=1,padding=1)\r\n",
        "        self.pool = nn.MaxPool2d(2,2)\r\n",
        "        self.conv2 = nn.Conv2d(32,64,kernel_size=3,stride=1,padding=1)\r\n",
        "        \r\n",
        "        #fully connected layers\r\n",
        "        self.fc1 = nn.Linear(64*7*7,1024)\r\n",
        "        self.fc2 = nn.Linear(1024,512)\r\n",
        "        self.fc3 = nn.Linear(512,10)\r\n",
        "\r\n",
        "        #dropout\r\n",
        "        self.dp = nn.Dropout(p=0.5)\r\n",
        "\r\n",
        "  def forward(self,x):\r\n",
        "    x = self.pool(F.relu(self.conv1(x)))\r\n",
        "    x = self.pool(F.relu(self.conv2(x)))\r\n",
        "\r\n",
        "    x = x.view(-1,64*7*7)#一次元に収縮する\r\n",
        "    x = F.relu(self.fc1(x))\r\n",
        "    x = F.relu(self.fc2(x))\r\n",
        "    self.dp(x)\r\n",
        "    x = self.fc3(x)\r\n",
        "\r\n",
        "    return x\r\n",
        "\r\n",
        "net = CNN()"
      ],
      "execution_count": null,
      "outputs": []
    },
    {
      "cell_type": "markdown",
      "metadata": {
        "id": "H6xoNfeIBKso"
      },
      "source": [
        "loss function\r\n",
        "\r\n",
        "Optimized function"
      ]
    },
    {
      "cell_type": "code",
      "metadata": {
        "id": "rK-NfGvPBXut"
      },
      "source": [
        "import torch.optim as optim\r\n",
        "\r\n",
        "criterion = nn.CrossEntropyLoss()\r\n",
        "optimizer = optim.SGD(net.parameters(), lr=0.001, momentum=0.9)\r\n",
        "#or Adam\r\n",
        "#optimizer = torch.optim.Adam(net.parameters(),lr=1e-2)"
      ],
      "execution_count": null,
      "outputs": []
    },
    {
      "cell_type": "markdown",
      "metadata": {
        "id": "ibMJMpqgwTvn"
      },
      "source": [
        "train model  \r\n",
        " "
      ]
    },
    {
      "cell_type": "markdown",
      "metadata": {
        "id": "0SZWbV2K2DmO"
      },
      "source": [
        "data format[inputs,labels]"
      ]
    },
    {
      "cell_type": "code",
      "metadata": {
        "colab": {
          "base_uri": "https://localhost:8080/"
        },
        "id": "f8Pu3yhVyYrL",
        "outputId": "152f9149-7e11-4d96-f859-db0d04e54c15"
      },
      "source": [
        "train_accs = []\r\n",
        "train_loss = []\r\n",
        "test_accs = []\r\n",
        "\r\n",
        "device = torch.device(\"cuda:0\" if torch.cuda.is_available() else \"cpu\")\r\n",
        "net = net.to(device)\r\n",
        "\r\n",
        "for epoch in range(5):\r\n",
        "  running_loss = 0.0\r\n",
        "  for i,data in enumerate(train_loader,0):\r\n",
        "    #0-->label start station\r\n",
        "    inputs,labels = data[0].to(device),data[1].to(device)\r\n",
        "    #Clear the gradient of the last batch\r\n",
        "    optimizer.zero_grad()\r\n",
        "\r\n",
        "    #forward backward \r\n",
        "    outputs = net(inputs)\r\n",
        "    loss = criterion(outputs,labels)\r\n",
        "    loss.backward()\r\n",
        "    #optimizer\r\n",
        "    optimizer.step()\r\n",
        "\r\n",
        "    running_loss += loss.item()\r\n",
        "    if i%100 == 99:\r\n",
        "      print(('[%d,%5d] loss :%.3f' %\r\n",
        "            (epoch+1,i+1,running_loss/100)))\r\n",
        "      running_loss = 0.0\r\n",
        "    train_loss.append(loss.item())\r\n",
        "\r\n",
        "    correct = 0\r\n",
        "    total = 0\r\n",
        "    #torch.max return-->(Tensor,LongTensor)\r\n",
        "    _, predicted = torch.max(outputs.data, dim = 1)\r\n",
        "    \r\n",
        "    total = labels.size(0)\r\n",
        "    # Predict the correct number\r\n",
        "    correct = (predicted == labels).sum().item() \r\n",
        "    train_accs.append(100*correct/total)   \r\n",
        "\r\n",
        "print('Finished Training')"
      ],
      "execution_count": null,
      "outputs": [
        {
          "output_type": "stream",
          "text": [
            "[1,  100] loss :0.269\n",
            "[1,  200] loss :0.262\n",
            "[1,  300] loss :0.248\n",
            "[1,  400] loss :0.222\n",
            "[1,  500] loss :0.226\n",
            "[1,  600] loss :0.200\n",
            "[1,  700] loss :0.199\n",
            "[1,  800] loss :0.180\n",
            "[1,  900] loss :0.177\n",
            "[2,  100] loss :0.160\n",
            "[2,  200] loss :0.144\n",
            "[2,  300] loss :0.133\n",
            "[2,  400] loss :0.131\n",
            "[2,  500] loss :0.140\n",
            "[2,  600] loss :0.127\n",
            "[2,  700] loss :0.135\n",
            "[2,  800] loss :0.120\n",
            "[2,  900] loss :0.112\n",
            "[3,  100] loss :0.102\n",
            "[3,  200] loss :0.101\n",
            "[3,  300] loss :0.105\n",
            "[3,  400] loss :0.103\n",
            "[3,  500] loss :0.096\n",
            "[3,  600] loss :0.094\n",
            "[3,  700] loss :0.098\n",
            "[3,  800] loss :0.099\n",
            "[3,  900] loss :0.091\n",
            "[4,  100] loss :0.090\n",
            "[4,  200] loss :0.080\n",
            "[4,  300] loss :0.083\n",
            "[4,  400] loss :0.088\n",
            "[4,  500] loss :0.076\n",
            "[4,  600] loss :0.076\n",
            "[4,  700] loss :0.079\n",
            "[4,  800] loss :0.083\n",
            "[4,  900] loss :0.076\n",
            "[5,  100] loss :0.073\n",
            "[5,  200] loss :0.071\n",
            "[5,  300] loss :0.063\n",
            "[5,  400] loss :0.069\n",
            "[5,  500] loss :0.070\n",
            "[5,  600] loss :0.075\n",
            "[5,  700] loss :0.067\n",
            "[5,  800] loss :0.069\n",
            "[5,  900] loss :0.070\n",
            "Finished Training\n"
          ],
          "name": "stdout"
        }
      ]
    },
    {
      "cell_type": "code",
      "metadata": {
        "id": "2SZbFF6nF_SR"
      },
      "source": [
        "PATH = './mnist_net.pth'\r\n",
        "torch.save(net.state_dict(), PATH)"
      ],
      "execution_count": null,
      "outputs": []
    },
    {
      "cell_type": "code",
      "metadata": {
        "colab": {
          "base_uri": "https://localhost:8080/",
          "height": 313
        },
        "id": "yYUteoY4GIag",
        "outputId": "f9c558be-5a1b-483a-a93b-a0fba9a56f0b"
      },
      "source": [
        "def draw_train_process(title,iters,costs,accs,label_cost,lable_acc):\r\n",
        "    plt.title(title, fontsize=24)\r\n",
        "    plt.xlabel(\"iter\", fontsize=20)\r\n",
        "    plt.ylabel(\"acc(\\%)\", fontsize=20)\r\n",
        "    plt.plot(iters, costs,color='red',label=label_cost) \r\n",
        "    plt.plot(iters, accs,color='green',label=lable_acc) \r\n",
        "    plt.legend()\r\n",
        "    plt.grid()\r\n",
        "    plt.show()\r\n",
        "train_iters = range(len(train_accs))\r\n",
        "draw_train_process('training',train_iters,train_loss,train_accs,'training loss','training acc')"
      ],
      "execution_count": null,
      "outputs": [
        {
          "output_type": "display_data",
          "data": {
            "image/png": "[encoded data removed]",
            "text/plain": [
              "<Figure size 432x288 with 1 Axes>"
            ]
          },
          "metadata": {
            "tags": [],
            "needs_background": "light"
          }
        }
      ]
    },
    {
      "cell_type": "code",
      "metadata": {
        "colab": {
          "base_uri": "https://localhost:8080/",
          "height": 306
        },
        "id": "C9vsCfLoGNAy",
        "outputId": "193e1c25-5dd4-4e7d-9fae-5f7860837bf8"
      },
      "source": [
        "dataiter = iter(test_loader)\r\n",
        "images, labels = dataiter.next()\r\n",
        "\r\n",
        "# print images\r\n",
        "test_img = utils.make_grid(images)\r\n",
        "test_img = test_img.numpy().transpose(1,2,0)\r\n",
        "std = [0.5,0.5,0.5]\r\n",
        "mean =  [0.5,0.5,0.5]\r\n",
        "test_img = test_img*std+0.5\r\n",
        "plt.imshow(test_img)\r\n",
        "plt.show()\r\n",
        "print('GroundTruth: ', ' '.join('%d' % labels[j] for j in range(64)))"
      ],
      "execution_count": null,
      "outputs": [
        {
          "output_type": "display_data",
          "data": {
            "image/png": "[encoded data removed]",
            "text/plain": [
              "<Figure size 432x288 with 1 Axes>"
            ]
          },
          "metadata": {
            "tags": [],
            "needs_background": "light"
          }
        },
        {
          "output_type": "stream",
          "text": [
            "GroundTruth:  2 0 3 4 6 5 6 1 4 5 5 2 1 9 4 8 3 1 0 1 8 0 0 1 3 0 9 8 9 7 8 5 1 5 3 1 2 8 9 9 1 2 9 9 1 3 6 6 8 9 5 4 5 2 2 2 3 6 3 3 7 5 1 5\n"
          ],
          "name": "stdout"
        }
      ]
    },
    {
      "cell_type": "code",
      "metadata": {
        "colab": {
          "base_uri": "https://localhost:8080/"
        },
        "id": "br46FLYLG1GQ",
        "outputId": "1d59a7d9-cd78-4748-d547-91487080e6f3"
      },
      "source": [
        "test_net = CNN()\r\n",
        "test_net.load_state_dict(torch.load(PATH))\r\n",
        "test_out = test_net(images) \r\n",
        "\r\n",
        "_, predicted = torch.max(test_out, dim=1)\r\n",
        "print('Predicted: ', ' '.join('%d' % predicted[j]\r\n",
        "                              for j in range(64)))"
      ],
      "execution_count": null,
      "outputs": [
        {
          "output_type": "stream",
          "text": [
            "Predicted:  2 0 3 4 6 5 6 1 4 5 5 2 1 9 4 8 3 1 0 1 8 0 0 1 3 0 9 8 9 7 8 5 1 5 0 1 2 8 9 9 1 2 9 9 1 3 6 6 8 9 5 4 5 2 2 2 3 6 3 3 7 5 1 5\n"
          ],
          "name": "stdout"
        }
      ]
    },
    {
      "cell_type": "code",
      "metadata": {
        "id": "WreFLJipNcsq"
      },
      "source": [
        "class_correct = list(0. for i in range(10))\r\n",
        "class_total = list(0. for i in range(10))\r\n",
        "\r\n",
        "with torch.no_grad():\r\n",
        "  for data in test_loader:\r\n",
        "    images,labels = data\r\n",
        "    outputs = test_net(images)\r\n",
        "    _, predicted = torch.max(outputs, 1)\r\n",
        "    c = (predicted == labels)\r\n",
        "    for i in range(10):\r\n",
        "      label = labels[i]\r\n",
        "      class_correct[label] += c[i].item()\r\n",
        "      class_total[label] += 1\r\n"
      ],
      "execution_count": null,
      "outputs": []
    },
    {
      "cell_type": "code",
      "metadata": {
        "colab": {
          "base_uri": "https://localhost:8080/"
        },
        "id": "mHR0bGbiOzTk",
        "outputId": "0ebb4504-864c-4538-97f6-493a401d73e5"
      },
      "source": [
        "for i in range(10):\r\n",
        "    print('Accuracy of %d : %2d %%' % (\r\n",
        "        i, 100 * class_correct[i] / class_total[i]))"
      ],
      "execution_count": null,
      "outputs": [
        {
          "output_type": "stream",
          "text": [
            "Accuracy of 0 : 100 %\n",
            "Accuracy of 1 : 100 %\n",
            "Accuracy of 2 : 96 %\n",
            "Accuracy of 3 : 99 %\n",
            "Accuracy of 4 : 98 %\n",
            "Accuracy of 5 : 99 %\n",
            "Accuracy of 6 : 97 %\n",
            "Accuracy of 7 : 94 %\n",
            "Accuracy of 8 : 96 %\n",
            "Accuracy of 9 : 94 %\n"
          ],
          "name": "stdout"
        }
      ]
    }
  ]
}
